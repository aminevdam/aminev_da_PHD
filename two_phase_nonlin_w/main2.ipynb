{
 "cells": [
  {
   "cell_type": "markdown",
   "metadata": {},
   "source": [
    "## обработка экспериментов"
   ]
  },
  {
   "cell_type": "code",
   "execution_count": 87,
   "metadata": {},
   "outputs": [],
   "source": [
    "import pandas as pd\n",
    "\n",
    "df = pd.read_csv('exp_res/experiments_results1.csv')\n",
    "\n",
    "df.columns = [\"mu_h_w\", \"mu_h_w_b\", \"mu_o_w\",\n",
    "                \"glad_w\", \"glad_w_b\", \"alfa_w\",\n",
    "                \"A_w\", \"A_end_w\", \"freq_w\", \"alfa_o\",\n",
    "                \"A_o\", \"A_end_o\", \"freq_o\", 'Q']\n",
    "\n",
    "df['Q'] = df['Q'].where(df[\"Q\"]==0.3, df[\"Q\"]*86400)\n",
    "df['mu_otn'] = df['mu_h_w'] / df['mu_h_w_b']"
   ]
  },
  {
   "cell_type": "code",
   "execution_count": null,
   "metadata": {},
   "outputs": [],
   "source": [
    "def remove_outliers_iqr(df, columns):\n",
    "    cleaned_df = df.copy()\n",
    "    for col in columns:\n",
    "        Q1 = df[col].quantile(0.25)\n",
    "        Q3 = df[col].quantile(0.75)\n",
    "        IQR = Q3 - Q1\n",
    "        lower_bound = Q1 - 0.9 * IQR\n",
    "        upper_bound = Q3 + 3.5 * IQR\n",
    "        cleaned_df = cleaned_df[(cleaned_df[col] >= lower_bound) & (cleaned_df[col] <= upper_bound)]\n",
    "    return cleaned_df\n",
    "\n",
    "df_new = df[(df['alfa_w']>0) & (df['alfa_o']>0)]\n",
    "\n",
    "df_new = remove_outliers_iqr(df_new, ['freq_o', 'freq_w'])\n",
    "\n",
    "df_new['Q'].hist()\n"
   ]
  },
  {
   "cell_type": "code",
   "execution_count": null,
   "metadata": {},
   "outputs": [],
   "source": [
    "import pandas as pd\n",
    "import seaborn as sns\n",
    "import matplotlib.pyplot as plt\n",
    "\n",
    "df = df_new\n",
    "\n",
    "# Выбираем интересующие нас параметры\n",
    "params = [\"mu_otn\", \"mu_o_w\", \"glad_w\", \"glad_w_b\", 'Q']\n",
    "targets = [\"alfa_w\", \"A_w\", \"freq_w\", \"alfa_o\", \"A_o\", \"freq_o\"]\n",
    "\n",
    "# Строим корреляционную матрицу\n",
    "corr_matrix = df[params + targets].corr().loc[params, targets]\n",
    "\n",
    "# Визуализируем корреляцию\n",
    "plt.figure(figsize=(10, 6))\n",
    "sns.heatmap(corr_matrix, annot=True, cmap=\"coolwarm\", fmt=\".2f\")\n",
    "plt.title(\"Корреляция между входными и выходными параметрами\")\n",
    "plt.show()\n"
   ]
  },
  {
   "cell_type": "code",
   "execution_count": null,
   "metadata": {},
   "outputs": [],
   "source": [
    "sns.pairplot(df, vars=params + targets, diag_kind=\"kde\")\n",
    "plt.show()"
   ]
  },
  {
   "cell_type": "code",
   "execution_count": null,
   "metadata": {},
   "outputs": [],
   "source": [
    "# sns.pairplot(df, vars=params + targets, diag_kind=\"kde\")\n",
    "sns.pairplot(df, x_vars=targets, y_vars=params, diag_kind=None)\n",
    "plt.show()"
   ]
  },
  {
   "cell_type": "code",
   "execution_count": null,
   "metadata": {},
   "outputs": [],
   "source": [
    "import pandas as pd\n",
    "import matplotlib.pyplot as plt\n",
    "import seaborn as sns\n",
    "from sklearn.ensemble import RandomForestRegressor\n",
    "from sklearn.model_selection import train_test_split\n",
    "\n",
    "# Фиксируем размер графиков\n",
    "plt.figure(figsize=(12, 8))\n",
    "\n",
    "# Обучаем модель для каждого таргета\n",
    "for i, target in enumerate(targets, 1):\n",
    "    X = df[params]  # Входные параметры\n",
    "    y = df[target]  # Выходная переменная\n",
    "    \n",
    "    # Разделение данных на train и test\n",
    "    X_train, X_test, y_train, y_test = train_test_split(X, y, test_size=0.2, random_state=42)\n",
    "    \n",
    "    # Обучаем модель RandomForest\n",
    "    rf = RandomForestRegressor(n_estimators=100, random_state=42)\n",
    "    rf.fit(X, y)\n",
    "    \n",
    "    # Оцениваем важность признаков\n",
    "    importances = pd.Series(rf.feature_importances_, index=params)\n",
    "    \n",
    "    # Визуализируем важность признаков\n",
    "    plt.subplot(2, 3, i)  # Размещаем графики в сетке 3x2\n",
    "    importances.sort_values().plot(kind=\"barh\", title=f\"Важность признаков для {target}\")\n",
    "    plt.xlabel(\"Значимость\")\n",
    "    \n",
    "plt.tight_layout()  # Делаем графики компактными\n",
    "plt.show()\n"
   ]
  }
 ],
 "metadata": {
  "kernelspec": {
   "display_name": ".venv",
   "language": "python",
   "name": "python3"
  },
  "language_info": {
   "codemirror_mode": {
    "name": "ipython",
    "version": 3
   },
   "file_extension": ".py",
   "mimetype": "text/x-python",
   "name": "python",
   "nbconvert_exporter": "python",
   "pygments_lexer": "ipython3",
   "version": "3.10.11"
  }
 },
 "nbformat": 4,
 "nbformat_minor": 2
}
