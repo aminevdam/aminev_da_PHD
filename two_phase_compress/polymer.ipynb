{
 "cells": [
  {
   "cell_type": "markdown",
   "metadata": {},
   "source": [
    "## Polimer flooding\n",
    "### system of equation:\n",
    "\n",
    "$$\\frac{\\partial \\rho_{pw} c S m}{\\partial t} + \\frac{\\partial}{\\partial x}(\\rho_{pw} W_w c)=-J_{pa}$$\n",
    "$$\\frac{\\partial \\rho_o (1-S) m}{\\partial t} + \\frac{\\partial}{\\partial x}(\\rho_o W_o)=0$$\n",
    "$$\\frac{\\partial \\rho_{pw} (1-c) S m}{\\partial t} + \\frac{\\partial}{\\partial x}(\\rho_{pw} W_w (1-c))=0$$\n",
    "$$\\frac{\\partial \\rho_{rock} m}{\\partial t} =-J_{pa}$$\n",
    "$$W_w=-\\frac{k_{rw} k}{\\mu_w}\\frac{\\partial p}{\\partial x}$$\n",
    "$$W_o=-\\frac{k_{ro} k}{\\mu_o}\\frac{\\partial p}{\\partial x}$$\n",
    "$$m(p)=m_0+\\beta_r*(p-p_0)$$\n",
    "$$\\rho_{o}(p) = \\rho_{o0}(1 + \\beta_{o}*(p-p_0))$$\n",
    "$$\\rho_{pw}(c)=1000+200*c$$\n",
    "$$\\rho_{rock}=const$$\n",
    "\n",
    "$$x\\in[0,L]$$\n",
    "$$t\\in[0,T]$$\n",
    "\n",
    "*Initial and boundary conditions*\n",
    "$$p(x, t=0)=p_0$$\n",
    "$$S(x, t=0)=S_0$$\n",
    "$$W_w(x=0, t)=\\frac{Q}{S}$$\n",
    "$$S(x=0, t)=1$$\n",
    "$$p(x=L, t)=p_0$$"
   ]
  },
  {
   "cell_type": "markdown",
   "metadata": {},
   "source": [
    "1.\n",
    "$$\\ c S m \\frac{\\partial \\rho_{pw}}{\\partial t} + \\rho_{pw} S m \\frac{\\partial c}{\\partial t} +  \\rho_{pw} c m \\frac{\\partial S}{\\partial t}+\\rho_{pw} c S \\frac{\\partial m}{\\partial t} - \\frac{\\partial}{\\partial x}(\\rho_{pw}\\frac{k_{rw} k}{\\mu_w}\\frac{\\partial p}{\\partial x} c)=-J_{pa} $$\n",
    "$$\\rho_o \\frac{\\partial m}{\\partial t} +\\ m \\frac{\\partial \\rho_o}{\\partial t} - \\ m S \\frac{\\partial \\rho_o}{\\partial t} -\\rho_o S \\frac{\\partial \\ m}{\\partial t} -\\rho_o m \\frac{\\partial \\ S}{\\partial t} - \\frac{\\partial}{\\partial x}(\\rho_o\\frac{k_{ro} k}{\\mu_o}\\frac{\\partial p}{\\partial x})=0 $$\n",
    "$$ \\ S m \\frac{\\partial \\rho_{pw}}{\\partial t}+\\rho_{pw} m \\frac{\\partial \\ S}{\\partial t}+\\rho_{pw} S \\frac{\\partial \\ m}{\\partial t}-\\ c S m \\frac{\\partial \\rho_{pw}}{\\partial t}-\\rho_{pw} S m \\frac{\\partial \\ c}{\\partial t}-\\rho_{pw} c m \\frac{\\partial \\ S}{\\partial t}-\\rho_{pw} c S \\frac{\\partial \\ m}{\\partial t}-\\frac{\\partial}{\\partial x}(\\rho_{pw}\\frac{k_{rw} k}{\\mu_w}\\frac{\\partial p}{\\partial x})+\\frac{\\partial}{\\partial x}(\\rho_{pw}\\frac{k_{rw} k}{\\mu_w}\\frac{\\partial p}{\\partial x} c)=0$$\n",
    "$$ \\frac{\\partial \\ m}{\\partial t}=-\\frac {J_{pa}}{{\\rho_{rock}}}$$\n",
    "\n",
    "2.\n",
    "$$\\frac{1}{\\rho_{pw}}\\ c S m \\frac{\\partial \\rho_{pw}}{\\partial t} + \\ S m \\frac{\\partial c}{\\partial t} +  \\ c m \\frac{\\partial S}{\\partial t}+\\ c S \\frac{\\partial m}{\\partial t} - \\frac{1}{\\rho_{pw}}\\frac{\\partial}{\\partial x}(\\rho_{pw}\\frac{k_{rw} k}{\\mu_w}\\frac{\\partial p}{\\partial x} c)=-\\frac {J_{pa}}{\\rho_{pw}} $$\n",
    "$$ \\frac{\\partial m}{\\partial t} +\\frac{1}{\\rho_o}\\ m \\frac{\\partial \\rho_o}{\\partial t} - \\frac{1}{\\rho_o}\\ m S \\frac{\\partial \\rho_o}{\\partial t} -\\ S \\frac{\\partial \\ m}{\\partial t} -\\ m \\frac{\\partial \\ S}{\\partial t} - \\frac{1}{\\rho_o}\\frac{\\partial}{\\partial x}(\\rho_o\\frac{k_{ro} k}{\\mu_o}\\frac{\\partial p}{\\partial x})=0 $$\n",
    "$$ \\frac{1}{\\rho_{pw}}\\ S m \\frac{\\partial \\rho_{pw}}{\\partial t}+\\ m \\frac{\\partial \\ S}{\\partial t}+\\ S \\frac{\\partial \\ m}{\\partial t}-\\frac{1}{\\rho_{pw}}\\ c S m \\frac{\\partial \\rho_{pw}}{\\partial t}-\\ S m \\frac{\\partial \\ c}{\\partial t}-\\ c m \\frac{\\partial \\ S}{\\partial t}-\\ c S \\frac{\\partial \\ m}{\\partial t}-\\frac{1}{\\rho_{pw}}\\frac{\\partial}{\\partial x}(\\rho_{pw}\\frac{k_{rw} k}{\\mu_w}\\frac{\\partial p}{\\partial x})+\\frac{1}{\\rho_{pw}}\\frac{\\partial}{\\partial x}(\\rho_{pw}\\frac{k_{rw} k}{\\mu_w}\\frac{\\partial p}{\\partial x} c)=0$$\n",
    "$$ \\frac{\\partial \\ m}{\\partial t}=-\\frac {J_{pa}}{{\\rho_{rock}}}$$\n",
    "\n",
    "3.\n",
    "$$\\frac{1}{\\rho_{pw}}\\ c S m \\frac{\\partial \\ (1000+200*c)}{\\partial t} + \\ S m \\frac{\\partial c}{\\partial t} +  \\ c m \\frac{\\partial S}{\\partial t}+\\ c S \\frac{\\partial (m_0+\\beta_r*(p-p_0))}{\\partial t} - \\frac{1}{\\rho_{pw}}\\frac{\\partial}{\\partial x}(\\rho_{pw}\\frac{k_{rw} k}{\\mu_w}\\frac{\\partial p}{\\partial x} c)=-\\frac {J_{pa}}{\\rho_{pw}} $$\n",
    "$$ \\frac{\\partial (m_0+\\beta_r*(p-p_0))}{\\partial t} +\\frac{1}{\\rho_o}\\ m \\frac{\\partial \\rho_{o0}(1 + \\beta_{o}*(p-p_0))}{\\partial t} - \\frac{1}{\\rho_o}\\ m S \\frac{\\partial \\rho_{o0}(1 + \\beta_{o}*(p-p_0))}{\\partial t} -\\ S \\frac{\\partial \\ (m_0+\\beta_r*(p-p_0))}{\\partial t} -\\ m \\frac{\\partial \\ S}{\\partial t} - \\frac{1}{\\rho_o}\\frac{\\partial}{\\partial x}(\\rho_o\\frac{k_{ro} k}{\\mu_o}\\frac{\\partial p}{\\partial x})=0 $$\n",
    "$$ \\frac{1}{\\rho_{pw}}\\ S m \\frac{\\partial \\ (1000+200*c)}{\\partial t}+\\ m \\frac{\\partial \\ S}{\\partial t}+\\ S \\frac{\\partial \\ (m_0+\\beta_r*(p-p_0))}{\\partial t}-\\frac{1}{\\rho_{pw}}\\ c S m \\frac{\\partial \\ (1000+200*c)}{\\partial t}-\\ S m \\frac{\\partial \\ c}{\\partial t}-\\ c m \\frac{\\partial \\ S}{\\partial t}-\\ c S \\frac{\\partial \\ (m_0+\\beta_r*(p-p_0))}{\\partial t}-\\frac{1}{\\rho_{pw}}\\frac{\\partial}{\\partial x}(\\rho_{pw}\\frac{k_{rw} k}{\\mu_w}\\frac{\\partial p}{\\partial x})+\\frac{1}{\\rho_{pw}}\\frac{\\partial}{\\partial x}(\\rho_{pw}\\frac{k_{rw} k}{\\mu_w}\\frac{\\partial p}{\\partial x} c)=0$$\n",
    "$$ \\frac{\\partial \\ (m_0+\\beta_r*(p-p_0))}{\\partial t}=-\\frac {J_{pa}}{{\\rho_{rock}}}$$\n",
    "\n",
    "4.\n",
    "$$\\frac{200}{\\rho_{pw}}\\ c S m \\frac{\\partial \\ c}{\\partial t}+\\ S m \\frac{\\partial c}{\\partial t} +  \\ c m \\frac{\\partial S}{\\partial t}+\\ c S \\beta_r \\frac{\\partial p}{\\partial t}- \\frac{1}{\\rho_{pw}}\\frac{\\partial}{\\partial x}(\\rho_{pw}\\frac{k_{rw} k}{\\mu_w}\\frac{\\partial p}{\\partial x} c)=-\\frac {J_{pa}}{\\rho_{pw}} $$\n",
    "$$ \\beta_r\\frac{\\partial p}{\\partial t}+\\frac{\\rho_{o0}\\beta_{o}}{\\rho_o}\\ m \\frac{\\partial \\ p}{\\partial t}-\\frac{\\rho_{o0}\\beta_{o} }{\\rho_o}\\ m S \\frac{\\partial \\ p}{\\partial t}-\\beta_r S\\frac{\\partial p}{\\partial t} -\\ m \\frac{\\partial \\ S}{\\partial t} - \\frac{1}{\\rho_o}\\frac{\\partial}{\\partial x}(\\rho_o\\frac{k_{ro} k}{\\mu_o}\\frac{\\partial p}{\\partial x})=0 $$\n",
    "$$\\frac{200}{\\rho_{pw}}\\ S m \\frac{\\partial \\ c}{\\partial t}+\\ m \\frac{\\partial \\ S}{\\partial t}+\\beta_r S\\frac{\\partial p}{\\partial t}-\\frac{200}{\\rho_{pw}}\\ c S m \\frac{\\partial \\ c}{\\partial t}-\\ S m \\frac{\\partial \\ c}{\\partial t}-\\ c m \\frac{\\partial \\ S}{\\partial t}-\\ c S \\beta_r\\frac{\\partial \\ p}{\\partial t}-\\frac{1}{\\rho_{pw}}\\frac{\\partial}{\\partial x}(\\rho_{pw}\\frac{k_{rw} k}{\\mu_w}\\frac{\\partial p}{\\partial x})+\\frac{1}{\\rho_{pw}}\\frac{\\partial}{\\partial x}(\\rho_{pw}\\frac{k_{rw} k}{\\mu_w}\\frac{\\partial p}{\\partial x} c)=0$$\n",
    "$$ \\beta_r\\frac{\\partial \\ p}{\\partial t}=-\\frac {J_{pa}}{{\\rho_{rock}}}$$\n",
    "\n",
    "5. Summarize"
   ]
  },
  {
   "cell_type": "markdown",
   "metadata": {},
   "source": [
    "$$\\frac{\\rho_{o0}\\beta_{o}}{\\rho_o}\\ m \\frac{\\partial \\ p}{\\partial t}-\\frac{\\rho_{o0}\\beta_{o} }{\\rho_o}\\ m S \\frac{\\partial \\ p}{\\partial t}+\\frac{200}{\\rho_{pw}}\\ S m \\frac{\\partial \\ c}{\\partial t}- \\frac{1}{\\rho_o}\\frac{\\partial}{\\partial x}(\\rho_o\\frac{k_{ro} k}{\\mu_o}\\frac{\\partial p}{\\partial x})-\\frac{1}{\\rho_{pw}}\\frac{\\partial}{\\partial x}(\\rho_{pw}\\frac{k_{rw} k}{\\mu_w}\\frac{\\partial p}{\\partial x})=-\\frac {J_{pa}}{\\rho_{pw}}+\\frac {J_{pa}}{{\\rho_{rock}}}$$\n",
    "$$ \\ m \\frac{\\partial \\ S}{\\partial t}=\\beta_r\\frac{\\partial p}{\\partial t}+\\frac{\\rho_{o0}\\beta_{o}}{\\rho_o}\\ m \\frac{\\partial \\ p}{\\partial t}-\\frac{\\rho_{o0}\\beta_{o} }{\\rho_o}\\ m S \\frac{\\partial \\ p}{\\partial t}-\\beta_r S\\frac{\\partial p}{\\partial t} - \\frac{1}{\\rho_o}\\frac{\\partial}{\\partial x}(\\rho_o\\frac{k_{ro} k}{\\mu_o}\\frac{\\partial p}{\\partial x}) $$"
   ]
  }
 ],
 "metadata": {
  "kernelspec": {
   "display_name": ".venv",
   "language": "python",
   "name": "python3"
  },
  "language_info": {
   "codemirror_mode": {
    "name": "ipython",
    "version": 3
   },
   "file_extension": ".py",
   "mimetype": "text/x-python",
   "name": "python",
   "nbconvert_exporter": "python",
   "pygments_lexer": "ipython3",
   "version": "3.12.7"
  }
 },
 "nbformat": 4,
 "nbformat_minor": 2
}
